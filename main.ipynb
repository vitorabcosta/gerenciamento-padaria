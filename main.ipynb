{
 "cells": [
  {
   "cell_type": "code",
   "execution_count": 9,
   "metadata": {},
   "outputs": [
    {
     "name": "stdout",
     "output_type": "stream",
     "text": [
      "2024-02-20 11:42:18,505 INFO sqlalchemy.engine.Engine BEGIN (implicit)\n",
      "2024-02-20 11:42:18,507 INFO sqlalchemy.engine.Engine PRAGMA main.table_info(\"prod_venda\")\n",
      "2024-02-20 11:42:18,508 INFO sqlalchemy.engine.Engine [raw sql] ()\n",
      "2024-02-20 11:42:18,511 INFO sqlalchemy.engine.Engine PRAGMA main.table_info(\"produto\")\n",
      "2024-02-20 11:42:18,512 INFO sqlalchemy.engine.Engine [raw sql] ()\n"
     ]
    },
    {
     "name": "stdout",
     "output_type": "stream",
     "text": [
      "2024-02-20 11:42:18,515 INFO sqlalchemy.engine.Engine PRAGMA main.table_info(\"venda\")\n",
      "2024-02-20 11:42:18,516 INFO sqlalchemy.engine.Engine [raw sql] ()\n",
      "2024-02-20 11:42:18,519 INFO sqlalchemy.engine.Engine COMMIT\n",
      "\n",
      "\n",
      " SISTEMA DE GERENCIAMENTO DE PADARIA:\n",
      "1- Entrada de Produtos:\n",
      "2- Listagem de Produtos:\n",
      "3- Venda\n",
      "2024-02-20 11:42:20,868 INFO sqlalchemy.engine.Engine BEGIN (implicit)\n",
      "2024-02-20 11:42:20,871 INFO sqlalchemy.engine.Engine SELECT produto.id_produto AS produto_id_produto, produto.name AS produto_name, produto.quantity AS produto_quantity, produto.price AS produto_price \n",
      "FROM produto\n",
      "2024-02-20 11:42:20,872 INFO sqlalchemy.engine.Engine [generated in 0.00119s] ()\n",
      "Lista de Produtos:\n",
      "ID: 1, Nome: pão francês, Quantidade: 1, Preço: 1.0\n",
      "\n",
      "\n",
      " SISTEMA DE GERENCIAMENTO DE PADARIA:\n",
      "1- Entrada de Produtos:\n",
      "2- Listagem de Produtos:\n",
      "3- Venda\n"
     ]
    }
   ],
   "source": [
    "%run funcoes.ipynb\n",
    "\n",
    "# Agora você pode chamar a função main\n",
    "main()"
   ]
  }
 ],
 "metadata": {
  "kernelspec": {
   "display_name": "Python 3",
   "language": "python",
   "name": "python3"
  },
  "language_info": {
   "codemirror_mode": {
    "name": "ipython",
    "version": 3
   },
   "file_extension": ".py",
   "mimetype": "text/x-python",
   "name": "python",
   "nbconvert_exporter": "python",
   "pygments_lexer": "ipython3",
   "version": "3.12.1"
  }
 },
 "nbformat": 4,
 "nbformat_minor": 2
}
