{
 "cells": [
  {
   "cell_type": "code",
   "execution_count": null,
   "metadata": {},
   "outputs": [],
   "source": []
  },
  {
   "cell_type": "code",
   "execution_count": 3,
   "metadata": {},
   "outputs": [
    {
     "name": "stdout",
     "output_type": "stream",
     "text": [
      "2024-02-24 07:18:06,299 INFO sqlalchemy.engine.Engine BEGIN (implicit)\n"
     ]
    },
    {
     "name": "stdout",
     "output_type": "stream",
     "text": [
      "2024-02-24 07:18:06,300 INFO sqlalchemy.engine.Engine PRAGMA main.table_info(\"prod_venda\")\n",
      "2024-02-24 07:18:06,302 INFO sqlalchemy.engine.Engine [raw sql] ()\n",
      "2024-02-24 07:18:06,305 INFO sqlalchemy.engine.Engine PRAGMA main.table_info(\"produto\")\n",
      "2024-02-24 07:18:06,306 INFO sqlalchemy.engine.Engine [raw sql] ()\n",
      "2024-02-24 07:18:06,308 INFO sqlalchemy.engine.Engine PRAGMA main.table_info(\"venda\")\n",
      "2024-02-24 07:18:06,309 INFO sqlalchemy.engine.Engine [raw sql] ()\n",
      "2024-02-24 07:18:06,311 INFO sqlalchemy.engine.Engine PRAGMA main.table_info(\"usuario\")\n",
      "2024-02-24 07:18:06,312 INFO sqlalchemy.engine.Engine [raw sql] ()\n",
      "2024-02-24 07:18:06,316 INFO sqlalchemy.engine.Engine COMMIT\n",
      "\n",
      "\n",
      " SISTEMA DE GERENCIAMENTO DE PADARIA:\n",
      "1- Cadastro de Usuário:\n",
      "2- Cadastro de Produto:\n",
      "3- Listagem de Produtos\n",
      "4- Venda de Produtos\n",
      "2024-02-24 07:18:09,048 INFO sqlalchemy.engine.Engine BEGIN (implicit)\n",
      "2024-02-24 07:18:09,051 INFO sqlalchemy.engine.Engine SELECT usuario.id_usuario AS usuario_id_usuario, usuario.cpf_usuario AS usuario_cpf_usuario, usuario.nome_usuario AS usuario_nome_usuario, usuario.senha AS usuario_senha \n",
      "FROM usuario\n",
      "2024-02-24 07:18:09,052 INFO sqlalchemy.engine.Engine [generated in 0.00148s] ()\n",
      "\n",
      "\n",
      "========= LOGIN ===========\n",
      "\n",
      "\n",
      "2024-02-24 07:18:19,587 INFO sqlalchemy.engine.Engine SELECT usuario.id_usuario AS usuario_id_usuario, usuario.cpf_usuario AS usuario_cpf_usuario, usuario.nome_usuario AS usuario_nome_usuario, usuario.senha AS usuario_senha \n",
      "FROM usuario \n",
      "WHERE usuario.cpf_usuario = ?\n",
      " LIMIT ? OFFSET ?\n",
      "2024-02-24 07:18:19,589 INFO sqlalchemy.engine.Engine [generated in 0.00144s] ('2', 1, 0)\n",
      "Não possui este cadastro. Por favor, faça um cadastro\n",
      "\n",
      "\n",
      " SISTEMA DE GERENCIAMENTO DE PADARIA:\n",
      "1- Cadastro de Usuário:\n",
      "2- Cadastro de Produto:\n",
      "3- Listagem de Produtos\n",
      "4- Venda de Produtos\n",
      "2024-02-24 07:18:30,145 INFO sqlalchemy.engine.Engine SELECT usuario.id_usuario AS usuario_id_usuario, usuario.cpf_usuario AS usuario_cpf_usuario, usuario.nome_usuario AS usuario_nome_usuario, usuario.senha AS usuario_senha \n",
      "FROM usuario\n",
      "2024-02-24 07:18:30,146 INFO sqlalchemy.engine.Engine [cached since 21.1s ago] ()\n",
      "\n",
      "\n",
      "========= LOGIN ===========\n",
      "\n",
      "\n",
      "2024-02-24 07:18:40,994 INFO sqlalchemy.engine.Engine SELECT usuario.id_usuario AS usuario_id_usuario, usuario.cpf_usuario AS usuario_cpf_usuario, usuario.nome_usuario AS usuario_nome_usuario, usuario.senha AS usuario_senha \n",
      "FROM usuario \n",
      "WHERE usuario.cpf_usuario = ?\n",
      " LIMIT ? OFFSET ?\n",
      "2024-02-24 07:18:40,996 INFO sqlalchemy.engine.Engine [cached since 21.41s ago] ('12858912602', 1, 0)\n",
      "Bem-vindo, Vitor!\n",
      "\n",
      "\n",
      " SISTEMA DE GERENCIAMENTO DE PADARIA:\n",
      "1- Cadastro de Usuário:\n",
      "2- Cadastro de Produto:\n",
      "3- Listagem de Produtos\n",
      "4- Venda de Produtos\n"
     ]
    }
   ],
   "source": [
    "%run funcoes.ipynb\n",
    "\n",
    "# Agora você pode chamar a função main\n",
    "main()"
   ]
  }
 ],
 "metadata": {
  "kernelspec": {
   "display_name": "Python 3",
   "language": "python",
   "name": "python3"
  },
  "language_info": {
   "codemirror_mode": {
    "name": "ipython",
    "version": 3
   },
   "file_extension": ".py",
   "mimetype": "text/x-python",
   "name": "python",
   "nbconvert_exporter": "python",
   "pygments_lexer": "ipython3",
   "version": "3.12.1"
  }
 },
 "nbformat": 4,
 "nbformat_minor": 2
}
